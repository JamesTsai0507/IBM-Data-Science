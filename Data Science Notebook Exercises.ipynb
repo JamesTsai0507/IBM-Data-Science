{
 "cells": [
  {
   "cell_type": "markdown",
   "id": "33cd2bed-6f9f-4af6-ac00-f80317d1e5ec",
   "metadata": {},
   "source": [
    "### Upload the screenshot of the first page of the notebook that is saved as 1-notebook.png, as required for Exercise 13. (1pt)"
   ]
  },
  {
   "cell_type": "markdown",
   "id": "6686419e-9a1f-4481-bbfa-cf0f99b6cf9f",
   "metadata": {},
   "source": [
    "## the markdown cell created with the title"
   ]
  },
  {
   "cell_type": "markdown",
   "id": "12c31282-1d5a-4d90-b409-2850162905d8",
   "metadata": {},
   "source": [
    "### Data Science Notebook Exercises"
   ]
  },
  {
   "cell_type": "markdown",
   "id": "055f637d-783e-4694-a752-8a1e039d7199",
   "metadata": {},
   "source": [
    "### The markdown cell created with an introductory sentence"
   ]
  },
  {
   "cell_type": "markdown",
   "id": "6dff360b-fb93-405d-a2e4-0db595f3bb88",
   "metadata": {},
   "source": [
    "#### In this project, we will analyze data using different data science techniques "
   ]
  },
  {
   "cell_type": "markdown",
   "id": "70bc45a6-b385-4e2f-a093-4d1b1b79bdea",
   "metadata": {},
   "source": [
    "### Below is a list of popular programming languages used in Data Science."
   ]
  },
  {
   "cell_type": "markdown",
   "id": "280242d5-af67-4ad9-94bf-19e5be90da3f",
   "metadata": {},
   "source": [
    "1. Python\n",
    "2. R\n",
    "3. SQL\n",
    "4. Julia\n",
    "5. Scala\n"
   ]
  },
  {
   "cell_type": "markdown",
   "id": "30143a46-6025-45ea-899e-32fb407492f8",
   "metadata": {},
   "source": [
    "###　Below is a list of popular libraries used in Data Science."
   ]
  },
  {
   "cell_type": "markdown",
   "id": "16edd731-b006-4301-af67-22980eb4e4dd",
   "metadata": {},
   "source": [
    "1. Pandas\n",
    "2. NumPy\n",
    "3. Matplotlib\n",
    "4. Scikit-learn\n",
    "5. TensorFlow"
   ]
  },
  {
   "cell_type": "markdown",
   "id": "c9b3077a-ef5d-47d6-b1c7-0397c43afebb",
   "metadata": {},
   "source": [
    "###　the markdown cell created with a table of Data Science tools "
   ]
  },
  {
   "attachments": {},
   "cell_type": "markdown",
   "id": "85275ae4-32ca-4e32-bc1c-055f9d7556e4",
   "metadata": {},
   "source": [
    "| Tool Name             | Description             | Type              |           \n",
    "|----------------|----------------|----------------|\n",
    "| Jupyter Notebook  | Interactive computing and visualization |IDE|\n",
    "| Apache Spark    | Big data processing                   |Framework|\n",
    "| GitHub          | Collaboration and version tracking    |Version Control |\n",
    "| SQL             | Database management and querying       |Query Language |\n"
   ]
  },
  {
   "cell_type": "markdown",
   "id": "1c5146f9-dce3-4e91-b301-74b5ae7fd331",
   "metadata": {},
   "source": [
    "### In this section, we will explore basic arithmetic expressions like addition, subtraction, multiplication, and division."
   ]
  },
  {
   "cell_type": "code",
   "execution_count": 34,
   "id": "34e47754-5c9c-4ba0-b926-de54b06ebec5",
   "metadata": {},
   "outputs": [
    {
     "name": "stdout",
     "output_type": "stream",
     "text": [
      "1+1 = 2 ; 2-1 = 1 ; 4/2 = 2.0 ; 2*2 = 4\n"
     ]
    }
   ],
   "source": [
    "print('1+1 =', 1+1 , '; 2-1 =', 2-1, '; 4/2 =', 4/2, '; 2*2 =', 2*2)"
   ]
  },
  {
   "cell_type": "markdown",
   "id": "7a2140e3-7250-49aa-b0f2-f7d7a8671839",
   "metadata": {},
   "source": [
    "### the code cell created to multiply and add numbers"
   ]
  },
  {
   "cell_type": "code",
   "execution_count": 48,
   "id": "45c9b6cb-0949-4054-855a-3fe450644839",
   "metadata": {},
   "outputs": [
    {
     "name": "stdout",
     "output_type": "stream",
     "text": [
      "addition: 4 \n",
      "multiplication: 4\n"
     ]
    }
   ],
   "source": [
    "a = 2\n",
    "b = 2\n",
    "x1 = a+b\n",
    "x2 = a*b\n",
    "print('addition:',x1, '\\nmultiplication:',x2)\n"
   ]
  },
  {
   "cell_type": "markdown",
   "id": "e2bbf4b4-963e-4da2-bbc4-d31e8ccbc2ff",
   "metadata": {},
   "source": [
    "### the code cell created to convert minutes to hours"
   ]
  },
  {
   "cell_type": "code",
   "execution_count": 55,
   "id": "05dec195-27e5-40c7-98f2-d92047acd7bd",
   "metadata": {},
   "outputs": [
    {
     "name": "stdout",
     "output_type": "stream",
     "text": [
      "convert  120 minutes to 2.0 hours\n"
     ]
    }
   ],
   "source": [
    "# minutes\n",
    "m = 120\n",
    "\n",
    "# convert minutes to hours\n",
    "h = m / 60\n",
    "\n",
    "print('convert ', m,'minutes to', h,'hours')"
   ]
  },
  {
   "cell_type": "markdown",
   "id": "0ef37ed1-9018-442f-b9df-9204d79d9a82",
   "metadata": {},
   "source": [
    "### The following are common types of algorithms used in Data Science."
   ]
  },
  {
   "cell_type": "markdown",
   "id": "9aaf44d5-2e68-49d9-85d6-b8139f3bdfe7",
   "metadata": {},
   "source": [
    "- Supervised Learning Algorithms\n",
    "- Unsupervised Learning Algorithms\n",
    "- Reinforcement Learning Algorithms\n",
    "- Classification Algorithms\n",
    "- Regression Algorithms\n",
    "- Clustering Algorithms\n",
    "- Dimensionality Reduction Algorithms"
   ]
  },
  {
   "cell_type": "markdown",
   "id": "d0640ea9-d677-4ea7-8a75-0cac7472cb89",
   "metadata": {},
   "source": [
    "### The markdown cell created to indicate Author’s name"
   ]
  },
  {
   "cell_type": "markdown",
   "id": "ecd596e7-4633-4d4a-a07c-6323a214247f",
   "metadata": {},
   "source": [
    "#### This notebook was created by James"
   ]
  },
  {
   "cell_type": "code",
   "execution_count": null,
   "id": "4ae662bf-c6a5-4390-a070-acd184b4a432",
   "metadata": {},
   "outputs": [],
   "source": []
  }
 ],
 "metadata": {
  "kernelspec": {
   "display_name": "Python 3 (ipykernel)",
   "language": "python",
   "name": "python3"
  },
  "language_info": {
   "codemirror_mode": {
    "name": "ipython",
    "version": 3
   },
   "file_extension": ".py",
   "mimetype": "text/x-python",
   "name": "python",
   "nbconvert_exporter": "python",
   "pygments_lexer": "ipython3",
   "version": "3.12.4"
  }
 },
 "nbformat": 4,
 "nbformat_minor": 5
}
